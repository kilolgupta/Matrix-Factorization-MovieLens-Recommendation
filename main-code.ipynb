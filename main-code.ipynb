{
 "cells": [
  {
   "cell_type": "code",
   "execution_count": 2,
   "metadata": {
    "collapsed": true
   },
   "outputs": [],
   "source": [
    "from numpy import linalg as LA\n",
    "import numpy as np\n",
    "import io\n",
    "import random"
   ]
  },
  {
   "cell_type": "code",
   "execution_count": 1,
   "metadata": {
    "collapsed": true
   },
   "outputs": [],
   "source": [
    "epochs = 2\n",
    "alpha = 0.02\n",
    "u = 138493\n",
    "m = 27278\n",
    "ratings_file = \"ml-20m/ratings.csv\"\n",
    "\n",
    "# the below 6 files are corresponding to the 3 separate random folds while splitting train and test data\n",
    "train_ratings_file_1 = \"train_data.csv\"\n",
    "test_ratings_file_1 = \"test_data.csv\"\n",
    "\n",
    "train_ratings_file_2 = \"train_data-2.csv\"\n",
    "test_ratings_file_2 = \"test_data-2.csv\"\n",
    "\n",
    "train_ratings_file_3 = \"train_data-3.csv\"\n",
    "test_ratings_file_3 = \"test_data-3.csv\"\n",
    "movies_mapping_file = \"ml-20m/movies.csv\"\n",
    "\n",
    "# These are the values which provided the minimum value of avg. RMSE\n",
    "lambd = 0.05\n",
    "rank = 16"
   ]
  },
  {
   "cell_type": "code",
   "execution_count": 3,
   "metadata": {
    "collapsed": true
   },
   "outputs": [],
   "source": [
    "# build movie dictionary with line no as numpy movie id ,its actual movie id as the key.\n",
    "def build_movies_dict(movies_file):\n",
    "    i = 0\n",
    "    movie_id_dict = {}\n",
    "    with io.open(movies_file, 'r', encoding=\"utf8\") as f:\n",
    "        for line in f:\n",
    "            if i == 0:\n",
    "                i = i+1\n",
    "            else:\n",
    "                movieId = line.split(',')[0]\n",
    "                movie_id_dict[int(movieId)] = i-1\n",
    "                i = i+1\n",
    "    return movie_id_dict"
   ]
  },
  {
   "cell_type": "code",
   "execution_count": 4,
   "metadata": {
    "collapsed": true
   },
   "outputs": [],
   "source": [
    "def read_data(input_file, movies_dict):\n",
    "    # creating a dictionary, key: (user_id, movie_id), value: rating\n",
    "    X = {}\n",
    "    user_to_movie_dict = {}\n",
    "    movie_to_user_dict = {}\n",
    "\n",
    "    # because we don't have a header row now\n",
    "    i = 1\n",
    "\n",
    "    with open(input_file,'r') as f:\n",
    "        for line in f:\n",
    "\n",
    "            # to escape the header row\n",
    "            if i == 0:\n",
    "                i += 1\n",
    "            else:\n",
    "                user, movie_id, rating, timestamp = line.split(',')\n",
    "                m_id = movies_dict[int(movie_id)]\n",
    "\n",
    "                X[(int(user)-1, m_id)] = float(rating)\n",
    "                \n",
    "                u_id = int(user)-1\n",
    "                \n",
    "                i += 1\n",
    "    return X"
   ]
  },
  {
   "cell_type": "code",
   "execution_count": 5,
   "metadata": {},
   "outputs": [
    {
     "name": "stdout",
     "output_type": "stream",
     "text": [
      "Fold1 loaded\n",
      "Fold2 loaded\n",
      "Fold3 loaded\n",
      "Data loading complete into 3 sets of train-test data\n"
     ]
    }
   ],
   "source": [
    "# this part won't work unless the above specified files are present in the same location as this notebook.\n",
    "# Because of their big size, I haven't included them in the submission but can email or submit again if required\n",
    "\n",
    "movies_dict = build_movies_dict(movies_mapping_file)\n",
    "train_data_dict_1 = read_data(train_ratings_file_1, movies_dict)\n",
    "test_data_dict_1 = read_data(test_ratings_file_1, movies_dict)\n",
    "\n",
    "print(\"Fold1 loaded\")\n",
    "\n",
    "train_data_dict_2 = read_data(train_ratings_file_2, movies_dict)\n",
    "test_data_dict_2 = read_data(test_ratings_file_2, movies_dict)\n",
    "\n",
    "print(\"Fold2 loaded\")\n",
    "\n",
    "train_data_dict_3 = read_data(train_ratings_file_3, movies_dict)\n",
    "test_data_dict_3 = read_data(test_ratings_file_3, movies_dict)\n",
    "\n",
    "print(\"Fold3 loaded\")\n",
    "print(\"Data loading complete into 3 sets of train-test data\")"
   ]
  },
  {
   "cell_type": "code",
   "execution_count": 11,
   "metadata": {
    "collapsed": true
   },
   "outputs": [],
   "source": [
    "def matrix_factor_sgd(X):\n",
    "    V = np.random.rand(u, rank)\n",
    "    W = np.random.rand(m, rank)\n",
    "    \n",
    "    for epoch in range(epochs):\n",
    "        # print(epoch)\n",
    "        for key, value in X.items():\n",
    "            i = key[0]\n",
    "            j = key[1]\n",
    "            rating = value\n",
    "            eij = rating - np.dot(V[i], W[j])\n",
    "\n",
    "            V_update = V[i] + alpha * (2.0 * eij * W[j] - (lambd*2.0 * V[i]))\n",
    "            W_update = W[j] + alpha * (2.0 * eij * V[i] - (lambd*2.0 * W[j]))\n",
    "\n",
    "            V[i] = V_update\n",
    "            W[j] = W_update\n",
    "\n",
    "    return V, W"
   ]
  },
  {
   "cell_type": "code",
   "execution_count": 7,
   "metadata": {
    "collapsed": true
   },
   "outputs": [],
   "source": [
    "def calc_rmse(X_test, V, W):\n",
    "    e = 0\n",
    "    for key, value in X_test.items():\n",
    "        i = key[0]\n",
    "        j = key[1]\n",
    "        rating = value\n",
    "        e += np.power(rating - np.dot(V[i],W[j]), 2)  # square error\n",
    "\n",
    "    e = e/len(X_test) # mean\n",
    "    rmse = np.sqrt(e) # root\n",
    "    return rmse"
   ]
  },
  {
   "cell_type": "code",
   "execution_count": 8,
   "metadata": {
    "collapsed": true
   },
   "outputs": [],
   "source": [
    "def calc_mrr(X_test, V, W):\n",
    "    mrr = 0\n",
    "\n",
    "    # dict of only >= 3 ratings\n",
    "    user_high_rated_movies_dict = {} # key: user_id, value: list of movie_ids\n",
    "    for key, value in X_test.items():\n",
    "        i = key[0]\n",
    "        j = key[1]\n",
    "        if value >= 3:\n",
    "            if i in user_high_rated_movies_dict:\n",
    "                user_high_rated_movies_dict[i].append(j)\n",
    "            else:\n",
    "                user_high_rated_movies_dict[i] = []\n",
    "                user_high_rated_movies_dict[i].append(j)\n",
    "\n",
    "    # creating a ranking dict, key: user index, value: (j(movie_index), predicted_rating)\n",
    "    predicted_ratings = {}\n",
    "    for key, value in X_test.items():\n",
    "        i = key[0]\n",
    "        j = key[1]\n",
    "        predicted_rating = np.dot(V[i], W[j])\n",
    "\n",
    "        if i in predicted_ratings:\n",
    "            predicted_ratings[i].append((j, predicted_rating))\n",
    "        else:\n",
    "            predicted_ratings[i] = []\n",
    "            predicted_ratings[i].append((j, predicted_rating))\n",
    "\n",
    "    no_of_users = len(predicted_ratings)\n",
    "\n",
    "    # going over each user and creating a ranking\n",
    "    for key in predicted_ratings:\n",
    "        list_of_ratings = predicted_ratings[key]\n",
    "        sorted_list_of_ratings = sorted(list_of_ratings, key=lambda tup: tup[1], reverse=True)\n",
    "        predicted_ratings[key] = sorted_list_of_ratings\n",
    "        \n",
    "        if key in user_high_rated_movies_dict:\n",
    "            list_high_rated_movies_per_user = user_high_rated_movies_dict[key]\n",
    "            count = len(list_high_rated_movies_per_user)\n",
    "            sum = 0\n",
    "            for movie in list_high_rated_movies_per_user:\n",
    "                rank = sorted_list_of_ratings.index((movie, np.dot(V[key],W[movie]))) + 1  # index will return 0\n",
    "                sum += 1/rank\n",
    "\n",
    "            mrr += sum/count\n",
    "\n",
    "    # mrr averaged over number of users\n",
    "    return mrr/no_of_users"
   ]
  },
  {
   "cell_type": "code",
   "execution_count": 13,
   "metadata": {},
   "outputs": [
    {
     "name": "stdout",
     "output_type": "stream",
     "text": [
      "Calculation done for fold 1\n",
      "Calculation done for fold 2\n",
      "Calculation done for fold 3\n",
      "Overall results:\n",
      "0.948972089747\n",
      "0.18880896755651078\n"
     ]
    }
   ],
   "source": [
    "estimated_V_1, estimated_W_1 = matrix_factor_sgd(train_data_dict_1)\n",
    "rmse1 = calc_rmse(test_data_dict_1, estimated_V_1, estimated_W_1)\n",
    "mrr1 = calc_mrr(test_data_dict_1, estimated_V_1, estimated_W_1)\n",
    "print(\"Calculation done for fold 1\")\n",
    "        \n",
    "estimated_V_2, estimated_W_2 = matrix_factor_sgd(train_data_dict_2)\n",
    "rmse2 = calc_rmse(test_data_dict_2, estimated_V_2, estimated_W_2)\n",
    "mrr2 = calc_mrr(test_data_dict_2, estimated_V_2, estimated_W_2)\n",
    "print(\"Calculation done for fold 2\")\n",
    "\n",
    "estimated_V_3, estimated_W_3 = matrix_factor_sgd(train_data_dict_3)\n",
    "rmse3 = calc_rmse(test_data_dict_3, estimated_V_3, estimated_W_3)\n",
    "mrr3 = calc_mrr(test_data_dict_3, estimated_V_3, estimated_W_3)\n",
    "print(\"Calculation done for fold 3\")\n",
    "print(\"Overall results:\")\n",
    "\n",
    "print(str((rmse1 + rmse2 + rmse3)/3))\n",
    "print(str((mrr1 + mrr2 + mrr3)/3))"
   ]
  },
  {
   "cell_type": "code",
   "execution_count": null,
   "metadata": {
    "collapsed": true
   },
   "outputs": [],
   "source": []
  }
 ],
 "metadata": {
  "kernelspec": {
   "display_name": "Python 3",
   "language": "python",
   "name": "python3"
  },
  "language_info": {
   "codemirror_mode": {
    "name": "ipython",
    "version": 3
   },
   "file_extension": ".py",
   "mimetype": "text/x-python",
   "name": "python",
   "nbconvert_exporter": "python",
   "pygments_lexer": "ipython3",
   "version": "3.6.1"
  }
 },
 "nbformat": 4,
 "nbformat_minor": 2
}
